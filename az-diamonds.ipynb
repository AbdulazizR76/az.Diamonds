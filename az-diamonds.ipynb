{
 "cells": [
  {
   "cell_type": "code",
   "execution_count": null,
   "id": "41efce0d",
   "metadata": {
    "execution": {
     "iopub.execute_input": "2023-07-23T13:27:29.161426Z",
     "iopub.status.busy": "2023-07-23T13:27:29.160620Z",
     "iopub.status.idle": "2023-07-23T13:27:30.497954Z",
     "shell.execute_reply": "2023-07-23T13:27:30.497122Z"
    },
    "papermill": {
     "duration": 1.348019,
     "end_time": "2023-07-23T13:27:30.500455",
     "exception": false,
     "start_time": "2023-07-23T13:27:29.152436",
     "status": "completed"
    },
    "tags": []
   },
   "outputs": [],
   "source": [
    "import pandas as pd \n",
    "import numpy as np\n",
    "import matplotlib.pyplot as pls \n",
    "\n",
    "from sklearn.preprocessing import LabelEncoder\n",
    "# LabelEncoder take a categorical data and turn them into numeric data\n",
    "\n",
    "from sklearn.preprocessing import MinMaxScaler \n",
    "# Transform features by scaling each feature to a given range. somthing between 0 and 1\n",
    "\n",
    "from sklearn.model_selection import train_test_split\n",
    "# Split arrays or matrices into random train and test subsets. based on percentages\n",
    "\n",
    "from sklearn.linear_model import LinearRegression\n",
    "# import linear regression model from sklearn\n",
    "from sklearn.linear_model import Ridge \n",
    "from sklearn.linear_model import Lasso\n",
    "\n"
   ]
  },
  {
   "cell_type": "code",
   "execution_count": null,
   "id": "1828adc9",
   "metadata": {
    "execution": {
     "iopub.execute_input": "2023-07-23T13:27:30.513033Z",
     "iopub.status.busy": "2023-07-23T13:27:30.512558Z",
     "iopub.status.idle": "2023-07-23T13:27:30.651016Z",
     "shell.execute_reply": "2023-07-23T13:27:30.650293Z"
    },
    "papermill": {
     "duration": 0.146969,
     "end_time": "2023-07-23T13:27:30.653166",
     "exception": false,
     "start_time": "2023-07-23T13:27:30.506197",
     "status": "completed"
    },
    "tags": []
   },
   "outputs": [],
   "source": [
    "data = pd.read_csv(r'/kaggle/input/diamonds/diamonds.csv')\n",
    "\n"
   ]
  },
  {
   "cell_type": "code",
   "execution_count": null,
   "id": "8deef158",
   "metadata": {
    "execution": {
     "iopub.execute_input": "2023-07-23T13:27:30.665128Z",
     "iopub.status.busy": "2023-07-23T13:27:30.664564Z",
     "iopub.status.idle": "2023-07-23T13:27:30.705320Z",
     "shell.execute_reply": "2023-07-23T13:27:30.704563Z"
    },
    "papermill": {
     "duration": 0.049157,
     "end_time": "2023-07-23T13:27:30.707614",
     "exception": false,
     "start_time": "2023-07-23T13:27:30.658457",
     "status": "completed"
    },
    "tags": []
   },
   "outputs": [],
   "source": [
    "data"
   ]
  },
  {
   "cell_type": "code",
   "execution_count": null,
   "id": "23bd902f",
   "metadata": {
    "execution": {
     "iopub.execute_input": "2023-07-23T13:27:30.720494Z",
     "iopub.status.busy": "2023-07-23T13:27:30.719994Z",
     "iopub.status.idle": "2023-07-23T13:27:30.723349Z",
     "shell.execute_reply": "2023-07-23T13:27:30.722517Z"
    },
    "papermill": {
     "duration": 0.012396,
     "end_time": "2023-07-23T13:27:30.725492",
     "exception": false,
     "start_time": "2023-07-23T13:27:30.713096",
     "status": "completed"
    },
    "tags": []
   },
   "outputs": [],
   "source": [
    "#data.set_index('Unnamed: 0')\n",
    "# set_index chanhe the index to tho column you choose "
   ]
  },
  {
   "cell_type": "code",
   "execution_count": null,
   "id": "4c21b50b",
   "metadata": {
    "execution": {
     "iopub.execute_input": "2023-07-23T13:27:30.738542Z",
     "iopub.status.busy": "2023-07-23T13:27:30.737668Z",
     "iopub.status.idle": "2023-07-23T13:27:30.748362Z",
     "shell.execute_reply": "2023-07-23T13:27:30.747413Z"
    },
    "papermill": {
     "duration": 0.019194,
     "end_time": "2023-07-23T13:27:30.750384",
     "exception": false,
     "start_time": "2023-07-23T13:27:30.731190",
     "status": "completed"
    },
    "tags": []
   },
   "outputs": [],
   "source": [
    "data.drop(data.columns[0], axis=1,inplace=True)"
   ]
  },
  {
   "cell_type": "code",
   "execution_count": null,
   "id": "27877a8f",
   "metadata": {
    "execution": {
     "iopub.execute_input": "2023-07-23T13:27:30.761919Z",
     "iopub.status.busy": "2023-07-23T13:27:30.761647Z",
     "iopub.status.idle": "2023-07-23T13:27:30.768352Z",
     "shell.execute_reply": "2023-07-23T13:27:30.767374Z"
    },
    "papermill": {
     "duration": 0.014664,
     "end_time": "2023-07-23T13:27:30.770375",
     "exception": false,
     "start_time": "2023-07-23T13:27:30.755711",
     "status": "completed"
    },
    "tags": []
   },
   "outputs": [],
   "source": [
    "y = data['price']\n",
    "x = data.drop('price', axis=1)\n",
    "# here we choose the value we want as our label and assign it to var y\n",
    "# also we droped it from x dataframe "
   ]
  },
  {
   "cell_type": "code",
   "execution_count": null,
   "id": "0a8d7fe1",
   "metadata": {
    "execution": {
     "iopub.execute_input": "2023-07-23T13:27:30.784033Z",
     "iopub.status.busy": "2023-07-23T13:27:30.783750Z",
     "iopub.status.idle": "2023-07-23T13:27:30.802336Z",
     "shell.execute_reply": "2023-07-23T13:27:30.801185Z"
    },
    "papermill": {
     "duration": 0.027149,
     "end_time": "2023-07-23T13:27:30.804294",
     "exception": false,
     "start_time": "2023-07-23T13:27:30.777145",
     "status": "completed"
    },
    "tags": []
   },
   "outputs": [],
   "source": [
    "# here we print the number of unique values \n",
    "\n",
    "print(f\"Cuts: {len(x['cut'].unique())}\")\n",
    "print(f\"Colors: {len(x['color'].unique())}\")\n",
    "print(f\"Claritys: {len(x['clarity'].unique())}\")\n",
    "\n",
    "\n"
   ]
  },
  {
   "cell_type": "code",
   "execution_count": null,
   "id": "19364083",
   "metadata": {
    "execution": {
     "iopub.execute_input": "2023-07-23T13:27:30.816801Z",
     "iopub.status.busy": "2023-07-23T13:27:30.816354Z",
     "iopub.status.idle": "2023-07-23T13:27:30.870993Z",
     "shell.execute_reply": "2023-07-23T13:27:30.870296Z"
    },
    "papermill": {
     "duration": 0.06321,
     "end_time": "2023-07-23T13:27:30.873032",
     "exception": false,
     "start_time": "2023-07-23T13:27:30.809822",
     "status": "completed"
    },
    "tags": []
   },
   "outputs": [],
   "source": [
    "# here we used our labelencoder and transformed our categorical values to a numerical values \n",
    "# also we created a var name_mapping to cheak the mapping of our data and print it in the next cell\n",
    "encoder = LabelEncoder()\n",
    "\n",
    "x['cut']=encoder.fit_transform(x['cut'])\n",
    "cut_mapping = {index: label for index, label in enumerate(encoder.classes_)}\n",
    "\n",
    "x['color']=encoder.fit_transform(x['color'])\n",
    "color_mapping = {index: label for index, label in enumerate(encoder.classes_)}\n",
    "\n",
    "x['clarity']=encoder.fit_transform(x['clarity'])\n",
    "clarity_mapping = {index: label for index, label in enumerate(encoder.classes_)}"
   ]
  },
  {
   "cell_type": "code",
   "execution_count": null,
   "id": "5a7cb7c2",
   "metadata": {
    "execution": {
     "iopub.execute_input": "2023-07-23T13:27:30.885269Z",
     "iopub.status.busy": "2023-07-23T13:27:30.884714Z",
     "iopub.status.idle": "2023-07-23T13:27:30.888990Z",
     "shell.execute_reply": "2023-07-23T13:27:30.888266Z"
    },
    "papermill": {
     "duration": 0.012157,
     "end_time": "2023-07-23T13:27:30.890863",
     "exception": false,
     "start_time": "2023-07-23T13:27:30.878706",
     "status": "completed"
    },
    "tags": []
   },
   "outputs": [],
   "source": [
    "print(cut_mapping)\n",
    "print(color_mapping)\n",
    "print(clarity_mapping)"
   ]
  },
  {
   "cell_type": "code",
   "execution_count": null,
   "id": "55e532b5",
   "metadata": {
    "execution": {
     "iopub.execute_input": "2023-07-23T13:27:30.902799Z",
     "iopub.status.busy": "2023-07-23T13:27:30.902347Z",
     "iopub.status.idle": "2023-07-23T13:27:30.921185Z",
     "shell.execute_reply": "2023-07-23T13:27:30.920364Z"
    },
    "papermill": {
     "duration": 0.027091,
     "end_time": "2023-07-23T13:27:30.923272",
     "exception": false,
     "start_time": "2023-07-23T13:27:30.896181",
     "status": "completed"
    },
    "tags": []
   },
   "outputs": [],
   "source": [
    "pd.DataFrame(x)"
   ]
  },
  {
   "cell_type": "code",
   "execution_count": null,
   "id": "8a7f0e9f",
   "metadata": {
    "execution": {
     "iopub.execute_input": "2023-07-23T13:27:30.935582Z",
     "iopub.status.busy": "2023-07-23T13:27:30.935300Z",
     "iopub.status.idle": "2023-07-23T13:27:30.952059Z",
     "shell.execute_reply": "2023-07-23T13:27:30.951350Z"
    },
    "papermill": {
     "duration": 0.024829,
     "end_time": "2023-07-23T13:27:30.953926",
     "exception": false,
     "start_time": "2023-07-23T13:27:30.929097",
     "status": "completed"
    },
    "tags": []
   },
   "outputs": [],
   "source": [
    "#here we scaled our dataset betweed 0 and 1 using sklearn library : MinMaxSaler\n",
    "scaler = MinMaxScaler()\n",
    "x= scaler.fit_transform(x)"
   ]
  },
  {
   "cell_type": "code",
   "execution_count": null,
   "id": "d0d73499",
   "metadata": {
    "execution": {
     "iopub.execute_input": "2023-07-23T13:27:30.966419Z",
     "iopub.status.busy": "2023-07-23T13:27:30.966164Z",
     "iopub.status.idle": "2023-07-23T13:27:30.975090Z",
     "shell.execute_reply": "2023-07-23T13:27:30.974284Z"
    },
    "papermill": {
     "duration": 0.017371,
     "end_time": "2023-07-23T13:27:30.977116",
     "exception": false,
     "start_time": "2023-07-23T13:27:30.959745",
     "status": "completed"
    },
    "tags": []
   },
   "outputs": [],
   "source": [
    "# here we will start the step of training our model \n",
    "x_train,x_test,y_train,y_test = train_test_split(x,y,train_size=0.8,shuffle=True)"
   ]
  },
  {
   "cell_type": "code",
   "execution_count": null,
   "id": "182ab387",
   "metadata": {
    "execution": {
     "iopub.execute_input": "2023-07-23T13:27:30.989528Z",
     "iopub.status.busy": "2023-07-23T13:27:30.989276Z",
     "iopub.status.idle": "2023-07-23T13:27:31.102356Z",
     "shell.execute_reply": "2023-07-23T13:27:31.101020Z"
    },
    "papermill": {
     "duration": 0.123155,
     "end_time": "2023-07-23T13:27:31.105932",
     "exception": false,
     "start_time": "2023-07-23T13:27:30.982777",
     "status": "completed"
    },
    "tags": []
   },
   "outputs": [],
   "source": [
    "std_model = LinearRegression()\n",
    "l1_model = Lasso(alpha = 1)\n",
    "l2_model = Ridge(alpha = 1)\n",
    "\n",
    "std_model.fit(x_train,y_train)\n",
    "l1_model.fit(x_train,y_train)\n",
    "l2_model.fit(x_train,y_train)"
   ]
  },
  {
   "cell_type": "code",
   "execution_count": null,
   "id": "e0b76e1e",
   "metadata": {
    "execution": {
     "iopub.execute_input": "2023-07-23T13:27:31.168509Z",
     "iopub.status.busy": "2023-07-23T13:27:31.167883Z",
     "iopub.status.idle": "2023-07-23T13:27:31.181788Z",
     "shell.execute_reply": "2023-07-23T13:27:31.180266Z"
    },
    "papermill": {
     "duration": 0.055318,
     "end_time": "2023-07-23T13:27:31.186662",
     "exception": false,
     "start_time": "2023-07-23T13:27:31.131344",
     "status": "completed"
    },
    "tags": []
   },
   "outputs": [],
   "source": [
    "print(f\"---Without regularization: {std_model.score(x_test,y_test)}\")\n",
    "print(f\"lasso (L1) regularization: {l1_model.score(x_test,y_test)}\")\n",
    "print(f\"Ridge (L2) regularization: {l2_model.score(x_test,y_test)}\")\n",
    "\n",
    "#model.score(x_test,y_test)"
   ]
  },
  {
   "cell_type": "code",
   "execution_count": null,
   "id": "b02f44b1",
   "metadata": {
    "execution": {
     "iopub.execute_input": "2023-07-23T13:27:31.215033Z",
     "iopub.status.busy": "2023-07-23T13:27:31.214469Z",
     "iopub.status.idle": "2023-07-23T13:27:31.235320Z",
     "shell.execute_reply": "2023-07-23T13:27:31.233691Z"
    },
    "papermill": {
     "duration": 0.040025,
     "end_time": "2023-07-23T13:27:31.239490",
     "exception": false,
     "start_time": "2023-07-23T13:27:31.199465",
     "status": "completed"
    },
    "tags": []
   },
   "outputs": [],
   "source": [
    "l2_model = Ridge(alpha= 0.1)\n",
    "l2_model = l2_model.fit(x_train, y_train)\n",
    "print(f\"Ridge (L2) regularization: {l2_model.score(x_test,y_test)}\")"
   ]
  },
  {
   "cell_type": "markdown",
   "id": "c7dfc043",
   "metadata": {
    "papermill": {
     "duration": 0.013153,
     "end_time": "2023-07-23T13:27:31.267631",
     "exception": false,
     "start_time": "2023-07-23T13:27:31.254478",
     "status": "completed"
    },
    "tags": []
   },
   "source": [
    "# next time i will plot them "
   ]
  }
 ],
 "metadata": {
  "kernelspec": {
   "display_name": "Python 3",
   "language": "python",
   "name": "python3"
  },
  "language_info": {
   "codemirror_mode": {
    "name": "ipython",
    "version": 3
   },
   "file_extension": ".py",
   "mimetype": "text/x-python",
   "name": "python",
   "nbconvert_exporter": "python",
   "pygments_lexer": "ipython3",
   "version": "3.11.8"
  },
  "papermill": {
   "default_parameters": {},
   "duration": 14.981312,
   "end_time": "2023-07-23T13:27:32.210529",
   "environment_variables": {},
   "exception": null,
   "input_path": "__notebook__.ipynb",
   "output_path": "__notebook__.ipynb",
   "parameters": {},
   "start_time": "2023-07-23T13:27:17.229217",
   "version": "2.4.0"
  }
 },
 "nbformat": 4,
 "nbformat_minor": 5
}
